{
 "cells": [
  {
   "cell_type": "code",
   "execution_count": 1,
   "id": "b813c380",
   "metadata": {},
   "outputs": [],
   "source": [
    "import pandas as pd\n",
    "import numpy as np\n",
    "import matplotlib.pyplot as plt\n",
    "import seaborn as sns\n",
    "from sklearn.preprocessing import LabelEncoder\n",
    "from sklearn.preprocessing import MinMaxScaler"
   ]
  },
  {
   "cell_type": "markdown",
   "id": "b6c03679",
   "metadata": {},
   "source": []
  },
  {
   "cell_type": "code",
   "execution_count": 5,
   "id": "dcfe57a9",
   "metadata": {},
   "outputs": [
    {
     "data": {
      "text/plain": [
       "Nigeria         713\n",
       "South Africa    468\n",
       "Kenya           155\n",
       "Sudan            64\n",
       "Name: Country, dtype: int64"
      ]
     },
     "execution_count": 5,
     "metadata": {},
     "output_type": "execute_result"
    }
   ],
   "source": [
    "df = pd.read_csv(\"Crop_Data.csv\")\n",
    "df[\"Country\"].value_counts()"
   ]
  },
  {
   "cell_type": "code",
   "execution_count": 3,
   "id": "dec778ff",
   "metadata": {},
   "outputs": [],
   "source": [
    "##  Encoding Categorical Variables:"
   ]
  },
  {
   "cell_type": "code",
   "execution_count": 4,
   "id": "d4841daf",
   "metadata": {},
   "outputs": [],
   "source": [
    "label_encoder = LabelEncoder()\n",
    "df['Country'] = label_encoder.fit_transform(df['Country'])"
   ]
  },
  {
   "cell_type": "code",
   "execution_count": 5,
   "id": "92c912fa",
   "metadata": {},
   "outputs": [
    {
     "data": {
      "text/html": [
       "<div>\n",
       "<style scoped>\n",
       "    .dataframe tbody tr th:only-of-type {\n",
       "        vertical-align: middle;\n",
       "    }\n",
       "\n",
       "    .dataframe tbody tr th {\n",
       "        vertical-align: top;\n",
       "    }\n",
       "\n",
       "    .dataframe thead th {\n",
       "        text-align: right;\n",
       "    }\n",
       "</style>\n",
       "<table border=\"1\" class=\"dataframe\">\n",
       "  <thead>\n",
       "    <tr style=\"text-align: right;\">\n",
       "      <th></th>\n",
       "      <th>temperature</th>\n",
       "      <th>humidity</th>\n",
       "      <th>ph</th>\n",
       "      <th>water availability</th>\n",
       "      <th>season</th>\n",
       "      <th>label</th>\n",
       "      <th>Country</th>\n",
       "      <th>harvest season</th>\n",
       "    </tr>\n",
       "  </thead>\n",
       "  <tbody>\n",
       "    <tr>\n",
       "      <th>665</th>\n",
       "      <td>27.106068</td>\n",
       "      <td>89.895933</td>\n",
       "      <td>6.698574</td>\n",
       "      <td>37.456806</td>\n",
       "      <td>rainy</td>\n",
       "      <td>mungbean</td>\n",
       "      <td>1</td>\n",
       "      <td>summer</td>\n",
       "    </tr>\n",
       "    <tr>\n",
       "      <th>624</th>\n",
       "      <td>28.951724</td>\n",
       "      <td>81.670853</td>\n",
       "      <td>6.510841</td>\n",
       "      <td>56.511033</td>\n",
       "      <td>rainy</td>\n",
       "      <td>mungbean</td>\n",
       "      <td>1</td>\n",
       "      <td>spring</td>\n",
       "    </tr>\n",
       "    <tr>\n",
       "      <th>115</th>\n",
       "      <td>18.254054</td>\n",
       "      <td>55.282204</td>\n",
       "      <td>6.204748</td>\n",
       "      <td>63.723582</td>\n",
       "      <td>rainy</td>\n",
       "      <td>maize</td>\n",
       "      <td>2</td>\n",
       "      <td>winter</td>\n",
       "    </tr>\n",
       "    <tr>\n",
       "      <th>478</th>\n",
       "      <td>29.490967</td>\n",
       "      <td>67.106044</td>\n",
       "      <td>6.471862</td>\n",
       "      <td>153.250451</td>\n",
       "      <td>rainy</td>\n",
       "      <td>pigeonpeas</td>\n",
       "      <td>2</td>\n",
       "      <td>winter</td>\n",
       "    </tr>\n",
       "    <tr>\n",
       "      <th>233</th>\n",
       "      <td>17.848517</td>\n",
       "      <td>19.091729</td>\n",
       "      <td>8.621663</td>\n",
       "      <td>76.324707</td>\n",
       "      <td>winter</td>\n",
       "      <td>chickpea</td>\n",
       "      <td>1</td>\n",
       "      <td>spring</td>\n",
       "    </tr>\n",
       "    <tr>\n",
       "      <th>...</th>\n",
       "      <td>...</td>\n",
       "      <td>...</td>\n",
       "      <td>...</td>\n",
       "      <td>...</td>\n",
       "      <td>...</td>\n",
       "      <td>...</td>\n",
       "      <td>...</td>\n",
       "      <td>...</td>\n",
       "    </tr>\n",
       "    <tr>\n",
       "      <th>1095</th>\n",
       "      <td>25.287846</td>\n",
       "      <td>89.636679</td>\n",
       "      <td>6.765095</td>\n",
       "      <td>58.286977</td>\n",
       "      <td>summer</td>\n",
       "      <td>watermelon</td>\n",
       "      <td>1</td>\n",
       "      <td>rainy</td>\n",
       "    </tr>\n",
       "    <tr>\n",
       "      <th>1130</th>\n",
       "      <td>29.727911</td>\n",
       "      <td>94.297533</td>\n",
       "      <td>6.367801</td>\n",
       "      <td>26.523641</td>\n",
       "      <td>summer</td>\n",
       "      <td>muskmelon</td>\n",
       "      <td>0</td>\n",
       "      <td>rainy</td>\n",
       "    </tr>\n",
       "    <tr>\n",
       "      <th>1294</th>\n",
       "      <td>23.438217</td>\n",
       "      <td>78.633888</td>\n",
       "      <td>6.200672</td>\n",
       "      <td>81.150721</td>\n",
       "      <td>winter</td>\n",
       "      <td>cotton</td>\n",
       "      <td>1</td>\n",
       "      <td>rainy</td>\n",
       "    </tr>\n",
       "    <tr>\n",
       "      <th>860</th>\n",
       "      <td>23.970814</td>\n",
       "      <td>62.355576</td>\n",
       "      <td>7.007038</td>\n",
       "      <td>53.409060</td>\n",
       "      <td>rainy</td>\n",
       "      <td>lentil</td>\n",
       "      <td>1</td>\n",
       "      <td>spring</td>\n",
       "    </tr>\n",
       "    <tr>\n",
       "      <th>1126</th>\n",
       "      <td>29.628007</td>\n",
       "      <td>90.100516</td>\n",
       "      <td>6.075144</td>\n",
       "      <td>23.695868</td>\n",
       "      <td>summer</td>\n",
       "      <td>muskmelon</td>\n",
       "      <td>2</td>\n",
       "      <td>rainy</td>\n",
       "    </tr>\n",
       "  </tbody>\n",
       "</table>\n",
       "<p>1400 rows × 8 columns</p>\n",
       "</div>"
      ],
      "text/plain": [
       "      temperature   humidity        ph  water availability  season  \\\n",
       "665     27.106068  89.895933  6.698574           37.456806   rainy   \n",
       "624     28.951724  81.670853  6.510841           56.511033   rainy   \n",
       "115     18.254054  55.282204  6.204748           63.723582   rainy   \n",
       "478     29.490967  67.106044  6.471862          153.250451   rainy   \n",
       "233     17.848517  19.091729  8.621663           76.324707  winter   \n",
       "...           ...        ...       ...                 ...     ...   \n",
       "1095    25.287846  89.636679  6.765095           58.286977  summer   \n",
       "1130    29.727911  94.297533  6.367801           26.523641  summer   \n",
       "1294    23.438217  78.633888  6.200672           81.150721  winter   \n",
       "860     23.970814  62.355576  7.007038           53.409060   rainy   \n",
       "1126    29.628007  90.100516  6.075144           23.695868  summer   \n",
       "\n",
       "           label  Country harvest season  \n",
       "665     mungbean        1         summer  \n",
       "624     mungbean        1         spring  \n",
       "115        maize        2         winter  \n",
       "478   pigeonpeas        2         winter  \n",
       "233     chickpea        1         spring  \n",
       "...          ...      ...            ...  \n",
       "1095  watermelon        1          rainy  \n",
       "1130   muskmelon        0          rainy  \n",
       "1294      cotton        1          rainy  \n",
       "860       lentil        1         spring  \n",
       "1126   muskmelon        2          rainy  \n",
       "\n",
       "[1400 rows x 8 columns]"
      ]
     },
     "execution_count": 5,
     "metadata": {},
     "output_type": "execute_result"
    }
   ],
   "source": [
    "# Shuffle the DataFrame rows\n",
    "shuffled_df = df.sample(frac=1, random_state=42)\n",
    "shuffled_df"
   ]
  },
  {
   "cell_type": "code",
   "execution_count": 6,
   "id": "f72c829b",
   "metadata": {},
   "outputs": [],
   "source": [
    "# Scale numerical columns (temperature, humidity, pH, water availability)\n",
    "scaler = MinMaxScaler()\n",
    "columns_to_scale = ['temperature', 'humidity', 'ph', 'water availability']\n",
    "shuffled_df[columns_to_scale] = scaler.fit_transform(shuffled_df[columns_to_scale])"
   ]
  },
  {
   "cell_type": "code",
   "execution_count": 7,
   "id": "9f99ef8c",
   "metadata": {},
   "outputs": [
    {
     "name": "stdout",
     "output_type": "stream",
     "text": [
      "Accuracy for label: 0.9857142857142858\n",
      "Accuracy for season: 0.8321428571428572\n",
      "Accuracy for harvest_season: 0.26071428571428573\n"
     ]
    }
   ],
   "source": [
    "from sklearn.multioutput import MultiOutputClassifier\n",
    "from sklearn.ensemble import RandomForestClassifier\n",
    "from sklearn.model_selection import train_test_split\n",
    "from sklearn.metrics import accuracy_score\n",
    "\n",
    "X = shuffled_df.drop(['label', 'season', 'harvest season'], axis=1)  # Features\n",
    "y_label = shuffled_df['label']  # Target variable: label\n",
    "y_season = shuffled_df['season']  # Target variable: season\n",
    "y_harvest_season = shuffled_df['harvest season']  # Target variable: harvest season\n",
    "\n",
    "# Split the data into training and testing sets for features and target variables\n",
    "X_train, X_test, y_train_label, y_test_label = train_test_split(X, y_label, test_size=0.2, random_state=42)\n",
    "X_train, X_test, y_train_season, y_test_season = train_test_split(X, y_season, test_size=0.2, random_state=42)\n",
    "X_train, X_test, y_train_harvest, y_test_harvest = train_test_split(X, y_harvest_season, test_size=0.2, random_state=42)\n",
    "\n",
    "# Define individual classifiers for each target\n",
    "rf_label = RandomForestClassifier()\n",
    "rf_season = RandomForestClassifier()\n",
    "rf_harvest = RandomForestClassifier()\n",
    "\n",
    "# Create MultiOutputClassifier\n",
    "multi_rf_classifier = MultiOutputClassifier(RandomForestClassifier(), n_jobs=-1)\n",
    "\n",
    "# Fit the multi-output classifier on all target variables simultaneously\n",
    "multi_rf_classifier.fit(X_train, pd.DataFrame({'label': y_train_label, 'season': y_train_season, 'harvest_season': y_train_harvest}))\n",
    "\n",
    "# Predict all target variables simultaneously for test data\n",
    "predictions = multi_rf_classifier.predict(X_test)\n",
    "\n",
    "# Access individual predictions for each target\n",
    "predictions_label = predictions[:, 0]  # label prediction\n",
    "predictions_season = predictions[:, 1]  # season prediction\n",
    "predictions_harvest = predictions[:, 2]  # harvest season prediction\n",
    "\n",
    "# Evaluate the predictions\n",
    "accuracy_label = accuracy_score(y_test_label, predictions_label)\n",
    "accuracy_season = accuracy_score(y_test_season, predictions_season)\n",
    "accuracy_harvest = accuracy_score(y_test_harvest, predictions_harvest)\n",
    "\n",
    "# Print accuracy for each target variable\n",
    "print(f\"Accuracy for label: {accuracy_label}\")\n",
    "print(f\"Accuracy for season: {accuracy_season}\")\n",
    "print(f\"Accuracy for harvest_season: {accuracy_harvest}\")\n"
   ]
  },
  {
   "cell_type": "code",
   "execution_count": 8,
   "id": "d4fdc5d1",
   "metadata": {},
   "outputs": [
    {
     "data": {
      "text/plain": [
       "['minmax_scaler.pkl']"
      ]
     },
     "execution_count": 8,
     "metadata": {},
     "output_type": "execute_result"
    }
   ],
   "source": [
    "from joblib import dump\n",
    "\n",
    "dump(multi_rf_classifier, 'final_model.pkl')\n",
    "dump(label_encoder, 'label_encoder.pkl')\n",
    "dump(scaler, 'minmax_scaler.pkl')"
   ]
  },
  {
   "cell_type": "code",
   "execution_count": 9,
   "id": "0f583cfc",
   "metadata": {},
   "outputs": [],
   "source": [
    "from joblib import load\n",
    "\n",
    "# Load the model from the file\n",
    "# loaded_model = load('final_model.pkl')\n",
    "# label_encoder = load('label_encoder.pkl')\n",
    "# scaler = load('minmax_scaler.pkl')"
   ]
  },
  {
   "cell_type": "markdown",
   "id": "e1397fef",
   "metadata": {},
   "source": [
    "### Preprocess New Data:\n",
    "Before using your trained model to make predictions in production, preprocess the new data using the loaded preprocessing objects:"
   ]
  },
  {
   "cell_type": "code",
   "execution_count": 10,
   "id": "b57bc34c",
   "metadata": {},
   "outputs": [],
   "source": [
    "# # Assuming 'new_data' contains the new input data\n",
    "# # Apply the same transformations as done in training\n",
    "# new_data[columns_to_scale] = scaler.transform(new_data[columns_to_scale])\n",
    "# new_data['encoded_categorical_column'] = label_encoder.transform(new_data['categorical_column'])\n",
    "\n",
    "# # Now, use your model to make predictions on this preprocessed data\n",
    "# predictions = multi_rf_classifier.predict(new_data)\n"
   ]
  }
 ],
 "metadata": {
  "kernelspec": {
   "display_name": "Python 3 (ipykernel)",
   "language": "python",
   "name": "python3"
  },
  "language_info": {
   "codemirror_mode": {
    "name": "ipython",
    "version": 3
   },
   "file_extension": ".py",
   "mimetype": "text/x-python",
   "name": "python",
   "nbconvert_exporter": "python",
   "pygments_lexer": "ipython3",
   "version": "3.9.7"
  }
 },
 "nbformat": 4,
 "nbformat_minor": 5
}
